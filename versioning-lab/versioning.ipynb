{
 "cells": [
  {
   "cell_type": "code",
   "execution_count": 10,
   "id": "277cd28b-8b2f-45e9-bc43-9f4d44ebd013",
   "metadata": {},
   "outputs": [],
   "source": [
    "# Get url from DVC\n",
    "import pandas as pd\n",
    "import dvc.api"
   ]
  },
  {
   "cell_type": "code",
   "execution_count": 11,
   "id": "3d6960b4-e127-4b38-af37-ada418edbc9b",
   "metadata": {},
   "outputs": [],
   "source": [
    "path='data/wine_original.csv'"
   ]
  },
  {
   "cell_type": "code",
   "execution_count": 12,
   "id": "0058ae7f-a17c-488b-8032-de5e6d458a5a",
   "metadata": {},
   "outputs": [],
   "source": [
    "repo = 'https://github.com/afra-muhammad/Day_3_Lab_Afra'"
   ]
  },
  {
   "cell_type": "code",
   "execution_count": 5,
   "id": "d4b42cd4-d7e5-4438-9dbe-a4da4719360b",
   "metadata": {},
   "outputs": [],
   "source": [
    "data_url = dvc.api.get_url(\n",
    "  path=path,\n",
    "  repo=repo\n",
    "  )"
   ]
  },
  {
   "cell_type": "code",
   "execution_count": 6,
   "id": "c9cefd7c-5d29-4886-b5f3-1aff9cf57a89",
   "metadata": {},
   "outputs": [],
   "source": [
    "data = pd.read_csv(data_url, sep=\";\")"
   ]
  },
  {
   "cell_type": "code",
   "execution_count": 7,
   "id": "c3313764-8eb6-4169-8d35-c677d5e4e6d4",
   "metadata": {},
   "outputs": [
    {
     "name": "stdout",
     "output_type": "stream",
     "text": [
      "                                                    6.9  1.09  0.06  2.1  \\\n",
      "0                                                   9.6  0.32  0.47  1.4   \n",
      "1                                                   8.8  0.37  0.48  2.1   \n",
      "2                                                   6.8   0.5  0.11  1.5   \n",
      "3                                                     7  0.42  0.35  1.6   \n",
      "4                                                     7  0.43  0.36  1.6   \n",
      "...                                                 ...   ...   ...  ...   \n",
      "6450  [34E0:04C0][2024-05-20T17:03:45]i410: Variable...   NaN   NaN  NaN   \n",
      "6451  [34E0:04C0][2024-05-20T17:03:45]i410: Variable...   NaN   NaN  NaN   \n",
      "6452  [34E0:04C0][2024-05-20T17:03:45]i410: Variable...   NaN   NaN  NaN   \n",
      "6453  [34E0:04C0][2024-05-20T17:03:45]i410: Variable...   NaN   NaN  NaN   \n",
      "6454  [34E0:04C0][2024-05-20T17:03:45]i007: Exit cod...   NaN   NaN  NaN   \n",
      "\n",
      "      0.061   12   31   0.9948  3.51  0.43  11.4    4  \n",
      "0     0.056    9   24  0.99695  3.22  0.82  10.3    7  \n",
      "1     0.097   39  145   0.9975  3.04  1.03   9.3    5  \n",
      "2     0.075   16   49  0.99545  3.36  0.79   9.5    5  \n",
      "3     0.088   16   39   0.9961  3.34  0.55   9.2    5  \n",
      "4     0.089   14   37  0.99615  3.34  0.56   9.2    6  \n",
      "...     ...  ...  ...      ...   ...   ...   ...  ...  \n",
      "6450    NaN  NaN  NaN      NaN   NaN   NaN   NaN  NaN  \n",
      "6451    NaN  NaN  NaN      NaN   NaN   NaN   NaN  NaN  \n",
      "6452    NaN  NaN  NaN      NaN   NaN   NaN   NaN  NaN  \n",
      "6453    NaN  NaN  NaN      NaN   NaN   NaN   NaN  NaN  \n",
      "6454    NaN  NaN  NaN      NaN   NaN   NaN   NaN  NaN  \n",
      "\n",
      "[6455 rows x 12 columns]\n"
     ]
    }
   ],
   "source": [
    "print(data)"
   ]
  },
  {
   "cell_type": "code",
   "execution_count": 13,
   "id": "a4f296d3-3f8d-4685-a19f-846d95f7b224",
   "metadata": {},
   "outputs": [],
   "source": [
    "# Specify the version (e.g., tag, branch, or commit hash)\n",
    "version = 'v2'"
   ]
  },
  {
   "cell_type": "code",
   "execution_count": 14,
   "id": "057e0c13-a6c8-4903-84ee-73d4566a281d",
   "metadata": {},
   "outputs": [],
   "source": [
    "data_url = dvc.api.get_url(\n",
    "    path=path,\n",
    "    repo=repo,\n",
    "    rev=version  # Specify the version of the dataset\n",
    ")"
   ]
  },
  {
   "cell_type": "code",
   "execution_count": 15,
   "id": "8a2c46d2-43f3-44b1-91b6-462ada4fbc08",
   "metadata": {},
   "outputs": [
    {
     "name": "stdout",
     "output_type": "stream",
     "text": [
      "                                          fixed acidity volatile acidity  \\\n",
      "0                                                   7.4              0.7   \n",
      "1                                                   7.8             0.88   \n",
      "2                                                   7.8             0.76   \n",
      "3                                                  11.2             0.28   \n",
      "4                                                   7.4              0.7   \n",
      "...                                                 ...              ...   \n",
      "6650  [34E0:04C0][2024-05-20T17:03:45]i410: Variable...              NaN   \n",
      "6651  [34E0:04C0][2024-05-20T17:03:45]i410: Variable...              NaN   \n",
      "6652  [34E0:04C0][2024-05-20T17:03:45]i410: Variable...              NaN   \n",
      "6653  [34E0:04C0][2024-05-20T17:03:45]i410: Variable...              NaN   \n",
      "6654  [34E0:04C0][2024-05-20T17:03:45]i007: Exit cod...              NaN   \n",
      "\n",
      "     citric acid residual sugar chlorides free sulfur dioxide  \\\n",
      "0              0            1.9     0.076                  11   \n",
      "1              0            2.6     0.098                  25   \n",
      "2           0.04            2.3     0.092                  15   \n",
      "3           0.56            1.9     0.075                  17   \n",
      "4              0            1.9     0.076                  11   \n",
      "...          ...            ...       ...                 ...   \n",
      "6650         NaN            NaN       NaN                 NaN   \n",
      "6651         NaN            NaN       NaN                 NaN   \n",
      "6652         NaN            NaN       NaN                 NaN   \n",
      "6653         NaN            NaN       NaN                 NaN   \n",
      "6654         NaN            NaN       NaN                 NaN   \n",
      "\n",
      "     total sulfur dioxide density    pH sulphates alcohol quality  \n",
      "0                      34  0.9978  3.51      0.56     9.4       5  \n",
      "1                      67  0.9968   3.2      0.68     9.8       5  \n",
      "2                      54   0.997  3.26      0.65     9.8       5  \n",
      "3                      60   0.998  3.16      0.58     9.8       6  \n",
      "4                      34  0.9978  3.51      0.56     9.4       5  \n",
      "...                   ...     ...   ...       ...     ...     ...  \n",
      "6650                  NaN     NaN   NaN       NaN     NaN     NaN  \n",
      "6651                  NaN     NaN   NaN       NaN     NaN     NaN  \n",
      "6652                  NaN     NaN   NaN       NaN     NaN     NaN  \n",
      "6653                  NaN     NaN   NaN       NaN     NaN     NaN  \n",
      "6654                  NaN     NaN   NaN       NaN     NaN     NaN  \n",
      "\n",
      "[6655 rows x 12 columns]\n"
     ]
    }
   ],
   "source": [
    "data = pd.read_csv(data_url, sep=\";\")\n",
    "print(data)"
   ]
  },
  {
   "cell_type": "code",
   "execution_count": null,
   "id": "ff388bc2-6faf-46b6-87bf-f18b53690e72",
   "metadata": {},
   "outputs": [],
   "source": [
    "# Specify the version (e.g., tag, branch, or commit hash)\n",
    "version = 'v1'"
   ]
  },
  {
   "cell_type": "code",
   "execution_count": 16,
   "id": "fc682db4-c13b-4e09-863f-c755858a407b",
   "metadata": {},
   "outputs": [],
   "source": [
    "data_url = dvc.api.get_url(\n",
    "    path=path,\n",
    "    repo=repo,\n",
    "    rev=version  # Specify the version of the dataset\n",
    ")"
   ]
  },
  {
   "cell_type": "code",
   "execution_count": 17,
   "id": "e9f7c055-6b47-44dd-afbc-18bc5df85c06",
   "metadata": {},
   "outputs": [
    {
     "name": "stdout",
     "output_type": "stream",
     "text": [
      "                                          fixed acidity volatile acidity  \\\n",
      "0                                                   7.4              0.7   \n",
      "1                                                   7.8             0.88   \n",
      "2                                                   7.8             0.76   \n",
      "3                                                  11.2             0.28   \n",
      "4                                                   7.4              0.7   \n",
      "...                                                 ...              ...   \n",
      "6650  [34E0:04C0][2024-05-20T17:03:45]i410: Variable...              NaN   \n",
      "6651  [34E0:04C0][2024-05-20T17:03:45]i410: Variable...              NaN   \n",
      "6652  [34E0:04C0][2024-05-20T17:03:45]i410: Variable...              NaN   \n",
      "6653  [34E0:04C0][2024-05-20T17:03:45]i410: Variable...              NaN   \n",
      "6654  [34E0:04C0][2024-05-20T17:03:45]i007: Exit cod...              NaN   \n",
      "\n",
      "     citric acid residual sugar chlorides free sulfur dioxide  \\\n",
      "0              0            1.9     0.076                  11   \n",
      "1              0            2.6     0.098                  25   \n",
      "2           0.04            2.3     0.092                  15   \n",
      "3           0.56            1.9     0.075                  17   \n",
      "4              0            1.9     0.076                  11   \n",
      "...          ...            ...       ...                 ...   \n",
      "6650         NaN            NaN       NaN                 NaN   \n",
      "6651         NaN            NaN       NaN                 NaN   \n",
      "6652         NaN            NaN       NaN                 NaN   \n",
      "6653         NaN            NaN       NaN                 NaN   \n",
      "6654         NaN            NaN       NaN                 NaN   \n",
      "\n",
      "     total sulfur dioxide density    pH sulphates alcohol quality  \n",
      "0                      34  0.9978  3.51      0.56     9.4       5  \n",
      "1                      67  0.9968   3.2      0.68     9.8       5  \n",
      "2                      54   0.997  3.26      0.65     9.8       5  \n",
      "3                      60   0.998  3.16      0.58     9.8       6  \n",
      "4                      34  0.9978  3.51      0.56     9.4       5  \n",
      "...                   ...     ...   ...       ...     ...     ...  \n",
      "6650                  NaN     NaN   NaN       NaN     NaN     NaN  \n",
      "6651                  NaN     NaN   NaN       NaN     NaN     NaN  \n",
      "6652                  NaN     NaN   NaN       NaN     NaN     NaN  \n",
      "6653                  NaN     NaN   NaN       NaN     NaN     NaN  \n",
      "6654                  NaN     NaN   NaN       NaN     NaN     NaN  \n",
      "\n",
      "[6655 rows x 12 columns]\n"
     ]
    }
   ],
   "source": [
    "data = pd.read_csv(data_url, sep=\";\")\n",
    "print(data)"
   ]
  },
  {
   "cell_type": "code",
   "execution_count": 18,
   "id": "c4fde008-f6d2-439a-8d81-816f56f2da3f",
   "metadata": {},
   "outputs": [],
   "source": [
    "# Specify the version (e.g., tag, branch, or commit hash)\n",
    "version = 'v3'"
   ]
  },
  {
   "cell_type": "code",
   "execution_count": 19,
   "id": "38becc94-2a45-45aa-9f00-13fa51ec1b90",
   "metadata": {},
   "outputs": [],
   "source": [
    "data_url = dvc.api.get_url(\n",
    "    path=path,\n",
    "    repo=repo,\n",
    "    rev=version  # Specify the version of the dataset\n",
    ")"
   ]
  },
  {
   "cell_type": "code",
   "execution_count": 20,
   "id": "cb65c022-54b7-4cff-a9be-6ce42b26c3de",
   "metadata": {},
   "outputs": [
    {
     "name": "stdout",
     "output_type": "stream",
     "text": [
      "                                                    6.9  1.09  0.06  2.1  \\\n",
      "0                                                   9.6  0.32  0.47  1.4   \n",
      "1                                                   8.8  0.37  0.48  2.1   \n",
      "2                                                   6.8   0.5  0.11  1.5   \n",
      "3                                                     7  0.42  0.35  1.6   \n",
      "4                                                     7  0.43  0.36  1.6   \n",
      "...                                                 ...   ...   ...  ...   \n",
      "6450  [34E0:04C0][2024-05-20T17:03:45]i410: Variable...   NaN   NaN  NaN   \n",
      "6451  [34E0:04C0][2024-05-20T17:03:45]i410: Variable...   NaN   NaN  NaN   \n",
      "6452  [34E0:04C0][2024-05-20T17:03:45]i410: Variable...   NaN   NaN  NaN   \n",
      "6453  [34E0:04C0][2024-05-20T17:03:45]i410: Variable...   NaN   NaN  NaN   \n",
      "6454  [34E0:04C0][2024-05-20T17:03:45]i007: Exit cod...   NaN   NaN  NaN   \n",
      "\n",
      "      0.061   12   31   0.9948  3.51  0.43  11.4    4  \n",
      "0     0.056    9   24  0.99695  3.22  0.82  10.3    7  \n",
      "1     0.097   39  145   0.9975  3.04  1.03   9.3    5  \n",
      "2     0.075   16   49  0.99545  3.36  0.79   9.5    5  \n",
      "3     0.088   16   39   0.9961  3.34  0.55   9.2    5  \n",
      "4     0.089   14   37  0.99615  3.34  0.56   9.2    6  \n",
      "...     ...  ...  ...      ...   ...   ...   ...  ...  \n",
      "6450    NaN  NaN  NaN      NaN   NaN   NaN   NaN  NaN  \n",
      "6451    NaN  NaN  NaN      NaN   NaN   NaN   NaN  NaN  \n",
      "6452    NaN  NaN  NaN      NaN   NaN   NaN   NaN  NaN  \n",
      "6453    NaN  NaN  NaN      NaN   NaN   NaN   NaN  NaN  \n",
      "6454    NaN  NaN  NaN      NaN   NaN   NaN   NaN  NaN  \n",
      "\n",
      "[6455 rows x 12 columns]\n"
     ]
    }
   ],
   "source": [
    "data = pd.read_csv(data_url, sep=\";\")\n",
    "print(data)"
   ]
  },
  {
   "cell_type": "code",
   "execution_count": null,
   "id": "37ff7828-0da6-49b8-9abf-11c7cbf33991",
   "metadata": {},
   "outputs": [],
   "source": []
  }
 ],
 "metadata": {
  "kernelspec": {
   "display_name": "Python 3 (ipykernel)",
   "language": "python",
   "name": "python3"
  },
  "language_info": {
   "codemirror_mode": {
    "name": "ipython",
    "version": 3
   },
   "file_extension": ".py",
   "mimetype": "text/x-python",
   "name": "python",
   "nbconvert_exporter": "python",
   "pygments_lexer": "ipython3",
   "version": "3.9.20"
  }
 },
 "nbformat": 4,
 "nbformat_minor": 5
}
